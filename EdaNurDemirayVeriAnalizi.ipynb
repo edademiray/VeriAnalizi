{
  "nbformat": 4,
  "nbformat_minor": 0,
  "metadata": {
    "colab": {
      "name": "EdaNurDemirayVeriAnalizi.ipynb",
      "private_outputs": true,
      "provenance": [],
      "collapsed_sections": []
    },
    "kernelspec": {
      "name": "python3",
      "display_name": "Python 3"
    },
    "language_info": {
      "name": "python"
    }
  },
  "cells": [
    {
      "cell_type": "markdown",
      "metadata": {
        "id": "wxrXlrzWb9fL"
      },
      "source": [
        "# **Veri Analizi **\n",
        "Eda Nur Demiray\n",
        "\n",
        "\n",
        "\n",
        "\n",
        "\n"
      ]
    },
    {
      "cell_type": "code",
      "metadata": {
        "id": "3HD2pecy_QIw"
      },
      "source": [
        "import pandas as pd       #Kütüphanelerimizi import ediyoruz\n",
        "\n",
        "import numpy as np\n",
        "import sys\n",
        "import matplotlib as plt\n",
        "import ipywidgets\n",
        "\n",
        "dataset=pd.read_csv('/content/employee-earnings-report-2014.csv')\n",
        "\n"
      ],
      "execution_count": null,
      "outputs": []
    },
    {
      "cell_type": "code",
      "metadata": {
        "id": "bNFiVO7U4DfG"
      },
      "source": [
        "print(dataset)"
      ],
      "execution_count": null,
      "outputs": []
    },
    {
      "cell_type": "markdown",
      "metadata": {
        "id": "TfxD_-DoqKi1"
      },
      "source": [
        "**1.** Veri seti'ni pandas dataFrame ile okuyunuz.\n"
      ]
    },
    {
      "cell_type": "code",
      "metadata": {
        "id": "3BG4HbfW_gJz"
      },
      "source": [
        "df_edademiray=pd.DataFrame(dataset) "
      ],
      "execution_count": null,
      "outputs": []
    },
    {
      "cell_type": "markdown",
      "metadata": {
        "id": "_76J2y8QBN86"
      },
      "source": [
        "\n",
        "\n",
        "\n",
        "**2**.DataFrame verileri ile ilgili özet bilgileri ekranda gösteriniz.\n",
        "Burada görüdüğümüz object değişkeni pandasta \"string\" tipini temsil ediyor.\n",
        "Ayrıca satırda 1 adet bile int olmayan veri oladuğunda satır tipini object olarak görürüz .\n",
        "\n"
      ]
    },
    {
      "cell_type": "code",
      "metadata": {
        "id": "ojQJjJNv_gPs"
      },
      "source": [
        "df_edademiray.info()  "
      ],
      "execution_count": null,
      "outputs": []
    },
    {
      "cell_type": "markdown",
      "metadata": {
        "id": "YGH588vSBg5O"
      },
      "source": [
        "**3**. pandas kütüphanesi versiyonu bulunuz."
      ]
    },
    {
      "cell_type": "code",
      "metadata": {
        "id": "1AXiivZg_gSt"
      },
      "source": [
        "print(\"pandas version: {}\".format(pd.__version__)) \n"
      ],
      "execution_count": null,
      "outputs": []
    },
    {
      "cell_type": "markdown",
      "metadata": {
        "id": "_K9tJcBsBlyD"
      },
      "source": [
        "\n",
        "\n",
        "**5.** Python Yazılımın Versiyonunu bulunuz.\n",
        "\n",
        "\n"
      ]
    },
    {
      "cell_type": "code",
      "metadata": {
        "id": "EoDyiZmOCPqX"
      },
      "source": [
        "pd.show_versions() "
      ],
      "execution_count": null,
      "outputs": []
    },
    {
      "cell_type": "code",
      "metadata": {
        "id": "5eTaPTac_gVe"
      },
      "source": [
        "\n",
        "print(\"Python version: {}\".format(sys.version)) \n",
        "\n"
      ],
      "execution_count": null,
      "outputs": []
    },
    {
      "cell_type": "markdown",
      "metadata": {
        "id": "HxXN47CzBzSK"
      },
      "source": [
        "**6.** Veri setindeki ilk 5 veriyi listeleyiniz.\n",
        "\n"
      ]
    },
    {
      "cell_type": "code",
      "metadata": {
        "id": "cP_4Tj5s_gYL"
      },
      "source": [
        "print(df_edademiray.head()) \n",
        "\n"
      ],
      "execution_count": null,
      "outputs": []
    },
    {
      "cell_type": "markdown",
      "metadata": {
        "id": "Ko5PaOPmB_16"
      },
      "source": [
        "**7.**\tVeri setindeki son 5 veriyi listeleyiniz. "
      ]
    },
    {
      "cell_type": "code",
      "metadata": {
        "id": "MZrWzPmhB_Jp"
      },
      "source": [
        "print(df_edademiray.tail()) "
      ],
      "execution_count": null,
      "outputs": []
    },
    {
      "cell_type": "markdown",
      "metadata": {
        "id": "Q1ed1GL-CHbX"
      },
      "source": [
        " **8.** Veri setindeki bütün verileri listeleyiniz."
      ]
    },
    {
      "cell_type": "code",
      "metadata": {
        "id": "iWwfgwt3CHDv"
      },
      "source": [
        "print(df_edademiray) "
      ],
      "execution_count": null,
      "outputs": []
    },
    {
      "cell_type": "code",
      "metadata": {
        "id": "PUAY1fvS_gbC"
      },
      "source": [
        "print(df_edademiray.describe())\n"
      ],
      "execution_count": null,
      "outputs": []
    },
    {
      "cell_type": "code",
      "metadata": {
        "id": "HMd9kBZY_gd0"
      },
      "source": [
        "print (df_edademiray['NAME'].value_counts()) "
      ],
      "execution_count": null,
      "outputs": []
    },
    {
      "cell_type": "markdown",
      "metadata": {
        "id": "KwIsiOyYEoDy"
      },
      "source": [
        "**12.**\tVeri setindeki toplam veri sayısını bulunuz. "
      ]
    },
    {
      "cell_type": "code",
      "metadata": {
        "id": "3nQpC6ED-9kA"
      },
      "source": [
        "print (df_edademiray.size) \n"
      ],
      "execution_count": null,
      "outputs": []
    },
    {
      "cell_type": "markdown",
      "metadata": {
        "id": "5sYUKtskEs07"
      },
      "source": [
        "**13.**Veri setindeki toplam sütun sayısını bulunuz. "
      ]
    },
    {
      "cell_type": "code",
      "metadata": {
        "id": "C1Ew8pIY-9Vc"
      },
      "source": [
        "print (len(df_edademiray.columns)) \n"
      ],
      "execution_count": null,
      "outputs": []
    },
    {
      "cell_type": "markdown",
      "metadata": {
        "id": "o_Jt88_rEx5q"
      },
      "source": [
        "**14.**Veri setindeki sütun isimlerini bulunuz.  "
      ]
    },
    {
      "cell_type": "code",
      "metadata": {
        "id": "GieU8C4X72qp"
      },
      "source": [
        "print (list(df_edademiray.columns)) \n",
        " "
      ],
      "execution_count": null,
      "outputs": []
    },
    {
      "cell_type": "markdown",
      "metadata": {
        "id": "o_5mxOGyE1mI"
      },
      "source": [
        "**15.** Veri setindeki eksik verileri bulunuz. "
      ]
    },
    {
      "cell_type": "code",
      "metadata": {
        "id": "yFJPpc_m722O"
      },
      "source": [
        " df_edademiray.isnull() "
      ],
      "execution_count": null,
      "outputs": []
    },
    {
      "cell_type": "markdown",
      "metadata": {
        "id": "irgv6ZyQE6H6"
      },
      "source": [
        "**17.**Bütün sütunlardaki toplam eksik veri sayısını bulunuz. \n",
        "\n"
      ]
    },
    {
      "cell_type": "code",
      "metadata": {
        "id": "IaUNtGJnFBco"
      },
      "source": [
        " df_edademiray.isnull().sum()  "
      ],
      "execution_count": null,
      "outputs": []
    },
    {
      "cell_type": "markdown",
      "metadata": {
        "id": "O_i-UZaNFEa_"
      },
      "source": [
        " **16.**\tHer bir sütundaki eksik veri sayısını bulunuz."
      ]
    },
    {
      "cell_type": "code",
      "metadata": {
        "id": "TNVyMoce72_S"
      },
      "source": [
        "for i in range(len(df_edademiray.index)) :\n",
        "  print(\"Dataframe Satırlarındaki NaN sayısı \", i , \" : \" , \n",
        "df_edademiray.iloc[i].isnull().sum())"
      ],
      "execution_count": null,
      "outputs": []
    },
    {
      "cell_type": "code",
      "metadata": {
        "id": "hclmwqOQ73CK"
      },
      "source": [
        "dfedademiray= df_edademiray.copy() #burada datasetimizi işlemlerden önce kopyalıyoruz ki yapıcağımız değişikliklerden yada hatalardan geri dönüşümüz daha rahat olsun.\n"
      ],
      "execution_count": null,
      "outputs": []
    },
    {
      "cell_type": "markdown",
      "metadata": {
        "id": "rYkQVOUnFJu2"
      },
      "source": [
        " **18.**\tEksik verilerin yerine \"0 - sıfır\" yazınız. "
      ]
    },
    {
      "cell_type": "code",
      "metadata": {
        "id": "bPcN3SKa73GY"
      },
      "source": [
        "dfedademiray.fillna(0)\n"
      ],
      "execution_count": null,
      "outputs": []
    },
    {
      "cell_type": "markdown",
      "metadata": {
        "id": "2Jv78P5HFMUx"
      },
      "source": [
        "**19.**\tEksik verileri dataFrame'den çıkarınız."
      ]
    },
    {
      "cell_type": "code",
      "metadata": {
        "id": "DB-guF-h73JW"
      },
      "source": [
        "dfedademiray.dropna(how=\"any\") \n",
        "\n"
      ],
      "execution_count": null,
      "outputs": []
    },
    {
      "cell_type": "markdown",
      "metadata": {
        "id": "Mts5YtvxFRn4"
      },
      "source": [
        "**20.**\tTekrarlı verilerin sayısını bulunuz."
      ]
    },
    {
      "cell_type": "code",
      "metadata": {
        "id": "ei77ez2_FV7S"
      },
      "source": [
        "dfedademiray.nunique()  "
      ],
      "execution_count": null,
      "outputs": []
    },
    {
      "cell_type": "markdown",
      "metadata": {
        "id": "sizhljVMFYNP"
      },
      "source": [
        "**23.**\tDataFrame'deki herhangi bir sütunu ekrana alınız ve veri tipini sorgulayınız.\n",
        "                                    #24.\tSütunun Class'ını sorgulayınız. "
      ]
    },
    {
      "cell_type": "code",
      "metadata": {
        "id": "zJNeGSmOMI63"
      },
      "source": [
        "print(df_edademiray['NAME'].dtypes) "
      ],
      "execution_count": null,
      "outputs": []
    },
    {
      "cell_type": "markdown",
      "metadata": {
        "id": "yKq7IKpOFctU"
      },
      "source": [
        " **32.**DataFrame’den bir sütunu geçici olarak siliniz."
      ]
    },
    {
      "cell_type": "code",
      "metadata": {
        "id": "c7va92YgMJE5"
      },
      "source": [
        "dfedademiray.drop(10472) \n"
      ],
      "execution_count": null,
      "outputs": []
    },
    {
      "cell_type": "markdown",
      "metadata": {
        "id": "_Oj8G2GFFguH"
      },
      "source": [
        " **29.**\tDataFrame’de filtreleme işlemi yapınız. "
      ]
    },
    {
      "cell_type": "code",
      "metadata": {
        "id": "6dyo8Eqfuced"
      },
      "source": [
        "dfedademiray.filter(regex='e$', axis=1)\n",
        "dfedademiray.index\n",
        "print (dfedademiray['NAME'])"
      ],
      "execution_count": null,
      "outputs": []
    },
    {
      "cell_type": "markdown",
      "metadata": {
        "id": "9LePGeeKFkFf"
      },
      "source": [
        "**30.**\tDataFrame’de indeksi sıfırlayınız. "
      ]
    },
    {
      "cell_type": "code",
      "metadata": {
        "id": "2a4sAkYvX-39"
      },
      "source": [
        "dfedademiray.reset_index() "
      ],
      "execution_count": null,
      "outputs": []
    },
    {
      "cell_type": "markdown",
      "metadata": {
        "id": "ZvQ8Wo0EFoyf"
      },
      "source": [
        "**47**.dataFrame'deki bir sütunu küçükten büyüğe sıralayınız. \n"
      ]
    },
    {
      "cell_type": "code",
      "metadata": {
        "id": "kBNdFPMKuchH"
      },
      "source": [
        "dfedademiray.sort_values(\"ZIP\")\n"
      ],
      "execution_count": null,
      "outputs": []
    },
    {
      "cell_type": "markdown",
      "metadata": {
        "id": "2Dnsap59Fs_z"
      },
      "source": [
        "**48.**\tdataFrame'deki bir sütunu büyükten küçüğe sıralayınız"
      ]
    },
    {
      "cell_type": "code",
      "metadata": {
        "id": "J_-YUWZAucjs"
      },
      "source": [
        "dfedademiray.sort_values(\"ZIP\",ascending=False) . "
      ],
      "execution_count": null,
      "outputs": []
    },
    {
      "cell_type": "markdown",
      "metadata": {
        "id": "95MH4frdFwoB"
      },
      "source": [
        "**49.**\tdataFrame'deki iki sütunu küçükten büyüğe sıralayınız. "
      ]
    },
    {
      "cell_type": "code",
      "metadata": {
        "id": "PPQX01IiucmY"
      },
      "source": [
        "dfedademiray.sort_values([\"ZIP\",\"QUINN\"])\n"
      ],
      "execution_count": null,
      "outputs": []
    },
    {
      "cell_type": "markdown",
      "metadata": {
        "id": "vsv473sEF5RG"
      },
      "source": [
        "**50.**\tdataFrame'deki iki sütunu büyükten küçüğe sıralayınız. "
      ]
    },
    {
      "cell_type": "code",
      "metadata": {
        "id": "5XypllilucpF"
      },
      "source": [
        "dfedademiray.sort_values([\"ZIP\",\"QUINN\"],ascending=[False,False]) "
      ],
      "execution_count": null,
      "outputs": []
    },
    {
      "cell_type": "markdown",
      "metadata": {
        "id": "Tj0WJ0B5F9vp"
      },
      "source": [
        "**34.**\tDataFrame hakkında genel bilgiyi ekranda listeleyiniz. "
      ]
    },
    {
      "cell_type": "code",
      "metadata": {
        "id": "4lkqfAVRuOYY"
      },
      "source": [
        "dfedademiray.info()"
      ],
      "execution_count": null,
      "outputs": []
    },
    {
      "cell_type": "code",
      "metadata": {
        "id": "7lyj_bJ1A2H9"
      },
      "source": [
        "pandas_series = pd.Series(data=dfedademiray.all())\n",
        "print(pandas_series)"
      ],
      "execution_count": null,
      "outputs": []
    },
    {
      "cell_type": "markdown",
      "metadata": {
        "id": "6mrWOJegGDs5"
      },
      "source": [
        "**38.**\tVeri setindeki min, max, mean, count değerlerini bulunuz. "
      ]
    },
    {
      "cell_type": "code",
      "metadata": {
        "id": "YMSsKez_A2Nf"
      },
      "source": [
        "print(pandas_series.max()) \n",
        "print(pandas_series.min())\n",
        "print(pandas_series.count())\n",
        "print(pandas_series.mean())\n",
        "\n",
        "\n"
      ],
      "execution_count": null,
      "outputs": []
    },
    {
      "cell_type": "markdown",
      "metadata": {
        "id": "A8N0GZjRGHKo"
      },
      "source": [
        "**35.**\tSystem Kütüphanesi versiyonunu bulunuz."
      ]
    },
    {
      "cell_type": "code",
      "metadata": {
        "id": "3CtlXszcA2Rf"
      },
      "source": [
        "sys.version "
      ],
      "execution_count": null,
      "outputs": []
    },
    {
      "cell_type": "markdown",
      "metadata": {
        "id": "9T66Wf1BGKOG"
      },
      "source": [
        " **36.** \tPandas Kütüphanesi versiyonunu bulunuz. "
      ]
    },
    {
      "cell_type": "code",
      "metadata": {
        "id": "ViTN332bA2UU"
      },
      "source": [
        "pd.__version__ "
      ],
      "execution_count": null,
      "outputs": []
    },
    {
      "cell_type": "code",
      "metadata": {
        "id": "omnx1tURGBGV"
      },
      "source": [
        "dfedademiray.keys() #Keyleri öğreniyoruz."
      ],
      "execution_count": null,
      "outputs": []
    },
    {
      "cell_type": "markdown",
      "metadata": {
        "id": "fRSEENIsGN2O"
      },
      "source": [
        "**25.**\tDataFrame’de \"loc  \" deyimi kullanarak indeks etiketi ile sorgu yapınız. "
      ]
    },
    {
      "cell_type": "code",
      "metadata": {
        "id": "PkKQ_fCQGBK2"
      },
      "source": [
        "print (dfedademiray.loc['Human']) \n"
      ],
      "execution_count": null,
      "outputs": []
    },
    {
      "cell_type": "markdown",
      "metadata": {
        "id": "5t7AEA6KGRY-"
      },
      "source": [
        "**26.**\tDataFrame’de \"iloc \" deyimi kullanarak indeks numarası ile sorgu yapınız. "
      ]
    },
    {
      "cell_type": "code",
      "metadata": {
        "id": "oZu2rJ5tGBQ4"
      },
      "source": [
        "print (dfedademiray.iloc[0]) "
      ],
      "execution_count": null,
      "outputs": []
    },
    {
      "cell_type": "markdown",
      "metadata": {
        "id": "U_sAug_NGZ4j"
      },
      "source": [
        "**37.**\tMatplotlib kütüphanesi versiyonunu bulunuz. "
      ]
    },
    {
      "cell_type": "code",
      "metadata": {
        "id": "OK6FmClsGBV4"
      },
      "source": [
        "plt. __version__ "
      ],
      "execution_count": null,
      "outputs": []
    },
    {
      "cell_type": "markdown",
      "metadata": {
        "id": "UPGiHiqHGjm4"
      },
      "source": [
        "**51.**\tdataFrame'deki 5 veriyi tesadüfi olarak listeleyiniz. "
      ]
    },
    {
      "cell_type": "code",
      "metadata": {
        "id": "cJlSm9CqA2Xm"
      },
      "source": [
        "dfedademiray.sample(5) "
      ],
      "execution_count": null,
      "outputs": []
    },
    {
      "cell_type": "markdown",
      "metadata": {
        "id": "_flrb0LbHEUh"
      },
      "source": [
        "**43.**dataFrame'i excel dosyası olarak kaydediniz. "
      ]
    },
    {
      "cell_type": "code",
      "metadata": {
        "id": "vSSqGCklKTgB"
      },
      "source": [
        "dfedademiray.to_excel(\"2014.xlsx\", sheet_name=\"24\",index=False) \n",
        "pd.read_excel(\"2014.xlsx\")\n",
        "\n"
      ],
      "execution_count": null,
      "outputs": []
    },
    {
      "cell_type": "code",
      "metadata": {
        "id": "NWyb6kZ97d-F"
      },
      "source": [
        "dfedademiray['RETRO'] = dfedademiray['RETRO'].str.replace('$', '')      #Sütunları nümerik yapabilmek için ilk önce $ işaretini boşluk ile değiştirip\n",
        "                                                                                          # daha sonra asytpe ilet float yaptım.\n",
        "dfedademiray['INJURED'] = dfedademiray['INJURED'].str.replace('$', '')\n",
        "dfedademiray['DETAIL'] = dfedademiray['DETAIL'].str.replace('$', '')\n",
        "dfedademiray['RETRO'] = dfedademiray['RETRO'].str.replace('$', '')\n",
        "dfedademiray['OTHER'] = dfedademiray['OTHER'].str.replace('$', '')\n",
        "dfedademiray['REGULAR'] = dfedademiray['REGULAR'].str.replace('$', '')\n",
        "dfedademiray['TOTAL EARNINGS'] = dfedademiray['TOTAL EARNINGS'].str.replace('$', '')\n",
        "dfedademiray['QUINN'] = dfedademiray['QUINN'].str.replace('$', '')\n",
        "dfedademiray['OVERTIME'] = dfedademiray['OVERTIME'].str.replace('$', '')"
      ],
      "execution_count": null,
      "outputs": []
    },
    {
      "cell_type": "code",
      "metadata": {
        "id": "XeQyuSp9zY7p"
      },
      "source": [
        "\n",
        "print(dfedademiray['REGULAR'].dtypes) \n"
      ],
      "execution_count": null,
      "outputs": []
    },
    {
      "cell_type": "code",
      "metadata": {
        "id": "2vSJKfNlzY_f"
      },
      "source": [
        "dfedademiray[\"REGULAR\"] = dfedademiray.REGULAR.astype(float)\n",
        "dfedademiray[\"EARNINGS\"] = dfedademiray.REGULAR.astype(float)\n",
        "dfedademiray[\"OTHER\"] = dfedademiray.OTHER.astype(float)\n",
        "dfedademiray[\"INJURED\"] = dfedademiray.INJURED.astype(float)\n",
        "dfedademiray[\"RETRO\"] = dfedademiray.RETRO.astype(float)"
      ],
      "execution_count": null,
      "outputs": []
    },
    {
      "cell_type": "code",
      "metadata": {
        "id": "N9e7_2VS8sP0"
      },
      "source": [
        "dfedademiray['REGULAR'].plot()"
      ],
      "execution_count": null,
      "outputs": []
    },
    {
      "cell_type": "code",
      "metadata": {
        "id": "rsVexnmx_Hoe"
      },
      "source": [
        "dfedademiray= dfedademiray.rename(columns = {'TOTAL EARNINGS': 'EARNINGS'}, inplace = False)"
      ],
      "execution_count": null,
      "outputs": []
    },
    {
      "cell_type": "markdown",
      "metadata": {
        "id": "5CYBb3e0HM_B"
      },
      "source": [
        " **33.**\tDataFrame’den bir sütunu kalıcı olarak siliniz. "
      ]
    },
    {
      "cell_type": "code",
      "metadata": {
        "id": "pL2RAuMGEasF"
      },
      "source": [
        "del dfedademiray['TITLE'] \n",
        "del dfedademiray['NAME']\n",
        "del dfedademiray['DEPARTMENT NAME']"
      ],
      "execution_count": null,
      "outputs": []
    },
    {
      "cell_type": "code",
      "metadata": {
        "id": "_QDhXAmFBQs9"
      },
      "source": [
        "print(dfedademiray['EARNINGS'].dtypes)"
      ],
      "execution_count": null,
      "outputs": []
    },
    {
      "cell_type": "markdown",
      "metadata": {
        "id": "7N4EWpg6HQa8"
      },
      "source": [
        "**53.**\tHistogram "
      ]
    },
    {
      "cell_type": "code",
      "metadata": {
        "id": "i61yScB7CBHx"
      },
      "source": [
        "plt.hist(dfedademiray['EARNINGS']) "
      ],
      "execution_count": null,
      "outputs": []
    },
    {
      "cell_type": "markdown",
      "metadata": {
        "id": "1lRBFNovHUeT"
      },
      "source": [
        "**54.**\tBar chart "
      ]
    },
    {
      "cell_type": "code",
      "metadata": {
        "id": "jYaltafrCQhh"
      },
      "source": [
        "x=dfedademiray['EARNINGS']  \n",
        "y=dfedademiray['REGULAR']\n",
        "plt.bar(x, y, color = \"red\")"
      ],
      "execution_count": null,
      "outputs": []
    },
    {
      "cell_type": "markdown",
      "metadata": {
        "id": "Gt1V3B63HXei"
      },
      "source": [
        "**55.**\tPie chart "
      ]
    },
    {
      "cell_type": "code",
      "metadata": {
        "id": "ZDn4PWBVEer3"
      },
      "source": [
        "dfedademiray['EARNINGS'].value_counts().head(10).plot.pie() \n"
      ],
      "execution_count": null,
      "outputs": []
    },
    {
      "cell_type": "markdown",
      "metadata": {
        "id": "s5V9kAPJHa38"
      },
      "source": [
        "**52.**\tVeri seti ile ilgili olarak, Scatter plot "
      ]
    },
    {
      "cell_type": "code",
      "metadata": {
        "id": "5pq6mqapGUUr"
      },
      "source": [
        "x=dfedademiray['EARNINGS'] \n",
        "y=dfedademiray['REGULAR']\n",
        "plt.scatter(x, y)"
      ],
      "execution_count": null,
      "outputs": []
    },
    {
      "cell_type": "code",
      "metadata": {
        "id": "PPOMza0EGUf3"
      },
      "source": [
        "import seaborn as sns"
      ],
      "execution_count": null,
      "outputs": []
    },
    {
      "cell_type": "markdown",
      "metadata": {
        "id": "YKXeG6g7Hk1Y"
      },
      "source": [
        " **59.**\tKeras kütüphanesini yükleyiniz. "
      ]
    },
    {
      "cell_type": "code",
      "metadata": {
        "id": "56Rzdpv7GUjY"
      },
      "source": [
        "import tensorflow as tf \n",
        "from tensorflow import keras"
      ],
      "execution_count": null,
      "outputs": []
    },
    {
      "cell_type": "markdown",
      "metadata": {
        "id": "6bbohDMKHn-7"
      },
      "source": [
        "**60.**\tKeras kütüphanesinin versiyonunu bulunuz. "
      ]
    },
    {
      "cell_type": "code",
      "metadata": {
        "id": "tcao-8wiGUnv"
      },
      "source": [
        "keras.__version__ "
      ],
      "execution_count": null,
      "outputs": []
    },
    {
      "cell_type": "markdown",
      "metadata": {
        "id": "IVf37EQQHsG9"
      },
      "source": [
        "**57.**\tSeaborn Kütüphanesi kullanarak \"Stripplot grafiğini\" çiziniz"
      ]
    },
    {
      "cell_type": "code",
      "metadata": {
        "id": "luVpod0IJghT"
      },
      "source": [
        "sns.stripplot(x=\"OTHER\", y=\"REGULAR\", data=dfedademiray, jitter=0.005) "
      ],
      "execution_count": null,
      "outputs": []
    },
    {
      "cell_type": "markdown",
      "metadata": {
        "id": "6J4XCukxH2oM"
      },
      "source": [
        " **58.**\"Swarmplot\" grafiğini çiziniz. "
      ]
    },
    {
      "cell_type": "code",
      "metadata": {
        "id": "O8jWq87qSe3W"
      },
      "source": [
        "sns.swarmplot(x='REGULAR',data=dfedademiray)"
      ],
      "execution_count": null,
      "outputs": []
    },
    {
      "cell_type": "markdown",
      "metadata": {
        "id": "Bsemtk4FH7Q-"
      },
      "source": [
        " **31.**\tdataFrame’e yeni bir sütun ilave ediniz. "
      ]
    },
    {
      "cell_type": "code",
      "metadata": {
        "id": "tPJiergLUQCW"
      },
      "source": [
        "dfedademiray[\"Gelir (TL)\"] = dfedademiray[\"INJURED\"] * 5\n"
      ],
      "execution_count": null,
      "outputs": []
    },
    {
      "cell_type": "code",
      "metadata": {
        "id": "IwWv6jQXk2YE"
      },
      "source": [
        "dfedademiray"
      ],
      "execution_count": null,
      "outputs": []
    },
    {
      "cell_type": "markdown",
      "metadata": {
        "id": "nUH64EOQH_pX"
      },
      "source": [
        "**39.**\t\"pd.pivot.table()\" metodunu kullanarak, dataFrame'deki bir sütundan tek indeksli \"pivot table\" oluşturunuz. "
      ]
    },
    {
      "cell_type": "code",
      "metadata": {
        "id": "fR-kD1Jnm0Tu"
      },
      "source": [
        "table = pd.pivot_table(dfedademiray, values=['OTHER'], index=['EARNINGS']) \n",
        "table"
      ],
      "execution_count": null,
      "outputs": []
    },
    {
      "cell_type": "markdown",
      "metadata": {
        "id": "EVdVMWv0IEal"
      },
      "source": [
        " **40.**\t\"pd.pivot.table()\" metodunu kullanarak, dataFrame'deki birden fazla sütundan çok indeksli \"pivot table\" oluşturunuz. "
      ]
    },
    {
      "cell_type": "code",
      "metadata": {
        "id": "Nu2kt2Obm0XM"
      },
      "source": [
        "table2 = pd.pivot_table(dfedademiray, values=['OTHER','INJURED'], index=['EARNINGS','ZIP'])\n",
        "table2"
      ],
      "execution_count": null,
      "outputs": []
    },
    {
      "cell_type": "markdown",
      "metadata": {
        "id": "NaumUBa_IJJo"
      },
      "source": [
        "**41.**\tPivot_table'da \"aggfunc=np.sum\" fonksiyonunu kullanınız. "
      ]
    },
    {
      "cell_type": "code",
      "metadata": {
        "id": "lEhIf3mCm0bu"
      },
      "source": [
        "table4 = pd.pivot_table(dfedademiray, values=['OTHER'], index=['EARNINGS'],aggfunc=np.sum) \n",
        "table4"
      ],
      "execution_count": null,
      "outputs": []
    },
    {
      "cell_type": "markdown",
      "metadata": {
        "id": "-gEvx0iUIOpI"
      },
      "source": [
        "**42.**\tdataFrame'i CSV dosyası olarak kaydediniz. df.to_csv('file_name.csv')"
      ]
    },
    {
      "cell_type": "code",
      "metadata": {
        "id": "fP0-TcjCm0fa"
      },
      "source": [
        "dfedademiray.to_csv() \n"
      ],
      "execution_count": null,
      "outputs": []
    },
    {
      "cell_type": "markdown",
      "metadata": {
        "id": "UHZsOGPVIU_L"
      },
      "source": [
        "**44.**\tdataFrame'i html dosyası olarak kaydediniz. "
      ]
    },
    {
      "cell_type": "code",
      "metadata": {
        "id": "G8EhKeydm0jz"
      },
      "source": [
        "dfedademiray.to_html() "
      ],
      "execution_count": null,
      "outputs": []
    },
    {
      "cell_type": "markdown",
      "metadata": {
        "id": "eKM-gcpiIYXy"
      },
      "source": [
        " **45.**\tdataFrame'i JSON dosyası olarak kaydediniz. "
      ]
    },
    {
      "cell_type": "code",
      "metadata": {
        "id": "Al5UF-3Lm0oO"
      },
      "source": [
        " dfedademiray.to_json(orient=\"split\")"
      ],
      "execution_count": null,
      "outputs": []
    },
    {
      "cell_type": "markdown",
      "metadata": {
        "id": "fdGWtJBkIbIO"
      },
      "source": [
        " **46.**\tdataFrame'i txt dosya olarak kaydediniz. \n"
      ]
    },
    {
      "cell_type": "code",
      "metadata": {
        "id": "DWj5MtLHm0r7"
      },
      "source": [
        "txtt= dfedademiray.to_csv(\"test.txt\")"
      ],
      "execution_count": null,
      "outputs": []
    },
    {
      "cell_type": "markdown",
      "metadata": {
        "id": "XzXuqUCjIgAE"
      },
      "source": [
        " **62.**İki sayıyı toplamak için ve çarpmak için .PY uzantılı bir SCRIPT veya MODÜL oluşturunuz."
      ]
    },
    {
      "cell_type": "code",
      "metadata": {
        "id": "-pdKndQIm0vh"
      },
      "source": [
        "def toplam(a, b):                         \n",
        "    return (a + b)\n",
        "\n",
        "a = int(input('1.sayıyı Giriniz '))\n",
        "b = int(input('2.Sayıyı Giriniz '))\n",
        "\n",
        "print(toplam(a, b))\n",
        "\n",
        "def carpım(a, b):\n",
        "    return (a + b)\n",
        "\n",
        "a = int(input('1.sayıyı Giriniz '))\n",
        "b = int(input('2.Sayıyı Giriniz '))\n",
        "\n",
        "print(carpım(a, b)) "
      ],
      "execution_count": null,
      "outputs": []
    },
    {
      "cell_type": "code",
      "metadata": {
        "id": "LRB6pG0vm0zY"
      },
      "source": [
        "pip install sweetviz"
      ],
      "execution_count": null,
      "outputs": []
    },
    {
      "cell_type": "markdown",
      "metadata": {
        "id": "Zk_sSGeWImls"
      },
      "source": [
        "**63.**\tPython Sweetviz Kütüphanesini Keşifsel Veri Analizi yapmak için kullanınız"
      ]
    },
    {
      "cell_type": "code",
      "metadata": {
        "id": "NKzjycPRm020"
      },
      "source": [
        "import sweetviz as sv                       \n",
        "analyze_report = sv.analyze(dfedademiray)\n",
        "analyze_report.show_html('analyze.html', open_browser=False)\n",
        "\n",
        "import IPython\n",
        "IPython.display.HTML('analyze.html')\n"
      ],
      "execution_count": null,
      "outputs": []
    },
    {
      "cell_type": "markdown",
      "metadata": {
        "id": "eVMjHeZnItEg"
      },
      "source": [
        "**64.**\tPython Dora Kütüphanesini Keşifsel Veri Analizi yapmak için kullanınız.  "
      ]
    },
    {
      "cell_type": "code",
      "metadata": {
        "id": "81es8K2eDPa9"
      },
      "source": [
        "pip install Dora\n"
      ],
      "execution_count": null,
      "outputs": []
    },
    {
      "cell_type": "code",
      "metadata": {
        "id": "DbDtx4j3Fjbz"
      },
      "source": [
        "from Dora import Dora\n",
        "dora = Dora()"
      ],
      "execution_count": null,
      "outputs": []
    },
    {
      "cell_type": "code",
      "metadata": {
        "id": "8hTE97vPFjff"
      },
      "source": [
        "dora.configure(output = 'OTHER', data = dfedademiray)\n",
        "dora.data"
      ],
      "execution_count": null,
      "outputs": []
    },
    {
      "cell_type": "code",
      "metadata": {
        "id": "rI60kUVlFjjc"
      },
      "source": [
        "dora.plot_feature('EARNINGS')\n"
      ],
      "execution_count": null,
      "outputs": []
    },
    {
      "cell_type": "code",
      "metadata": {
        "id": "6Bk40ix_KLHb"
      },
      "source": [
        "dora.explore() "
      ],
      "execution_count": null,
      "outputs": []
    },
    {
      "cell_type": "code",
      "metadata": {
        "id": "Z4aRw0mXKLSh"
      },
      "source": [
        "dfedademiray.sample(5)"
      ],
      "execution_count": null,
      "outputs": []
    },
    {
      "cell_type": "code",
      "metadata": {
        "id": "EJM_gVnfKLXe"
      },
      "source": [
        "dfedademiray[['DETAIL','OTHER']]"
      ],
      "execution_count": null,
      "outputs": []
    },
    {
      "cell_type": "markdown",
      "metadata": {
        "id": "vDqsUgL0IwYw"
      },
      "source": [
        "**65.**Python Bokeh Kütüphanesini İnteraktif Görselleştirme yapmak için kullanınız. \n"
      ]
    },
    {
      "cell_type": "code",
      "metadata": {
        "id": "pVy_NGZzVbbJ"
      },
      "source": [
        "pip install bokeh  "
      ],
      "execution_count": null,
      "outputs": []
    },
    {
      "cell_type": "code",
      "metadata": {
        "id": "n6caYrTPKLcU"
      },
      "source": [
        "from bokeh.io import output_file, output_notebook\n",
        "from bokeh.plotting import figure, show\n",
        "from bokeh.models import ColumnDataSource\n",
        "from bokeh.layouts import row, column, gridplot\n",
        "from bokeh.models.widgets import Tabs, Panel"
      ],
      "execution_count": null,
      "outputs": []
    },
    {
      "cell_type": "code",
      "metadata": {
        "id": "3Q2JAOeWKLgU"
      },
      "source": [
        "src = ColumnDataSource(dfedademiray)\n",
        "src.data.keys()"
      ],
      "execution_count": null,
      "outputs": []
    },
    {
      "cell_type": "code",
      "metadata": {
        "id": "Btasu4LGKLlv"
      },
      "source": [
        "x=dfedademiray['EARNINGS']\n",
        "y=dfedademiray['INJURED']"
      ],
      "execution_count": null,
      "outputs": []
    },
    {
      "cell_type": "code",
      "metadata": {
        "id": "fY38p_RyiN3n"
      },
      "source": [
        "import matplotlib.pyplot as plt\n"
      ],
      "execution_count": null,
      "outputs": []
    },
    {
      "cell_type": "code",
      "metadata": {
        "id": "2r92JD0TKLp3"
      },
      "source": [
        "p=figure(title='Basit Bir Boheh Tablosu',x_axis_label='x',y_axis_label='y')\n",
        "p.line(x, y, legend_label=\"Temp.\", line_width=2)\n",
        "show(p)"
      ],
      "execution_count": null,
      "outputs": []
    },
    {
      "cell_type": "code",
      "metadata": {
        "id": "1Yb5M0CFZ2zX"
      },
      "source": [
        "kazanc=((np.asarray(dfedademiray['EARNINGS'])))\n",
        "harcama=((np.asarray(dfedademiray['REGULAR'])))"
      ],
      "execution_count": null,
      "outputs": []
    },
    {
      "cell_type": "code",
      "metadata": {
        "id": "zfWz5pQifhZi"
      },
      "source": [
        "labels=np.asarray([\"{0} \\n {1:.2f}\".format(symb,value)\n",
        "                     for symb,value in zip(kazanc.flatten(),harcama.flatten())])\n"
      ],
      "execution_count": null,
      "outputs": []
    },
    {
      "cell_type": "markdown",
      "metadata": {
        "id": "Dg31cTaWI8zz"
      },
      "source": [
        "**56.** Heat Map grafiklerini çiziniz."
      ]
    },
    {
      "cell_type": "code",
      "metadata": {
        "id": "B03eiC8ifhdH"
      },
      "source": [
        "fig, ax =plt.subplots(figsize=(12,7))  \n",
        "title=\"Heat Map\"\n",
        "plt.title(title,fontsize=18)\n",
        "ttl=ax.title\n",
        "ttl.set_position([0.5,1.05])\n",
        "ax.set_xticks([])\n",
        "ax.set_yticks([])\n",
        "ax.axis('off')\n",
        "sns.heatmap(table,annot = True,fmt=\"\",cmap='RdYlGn',linewidths=50,ax=ax)\n",
        "plt.show()"
      ],
      "execution_count": null,
      "outputs": []
    },
    {
      "cell_type": "code",
      "metadata": {
        "id": "IsBRH941m9Qm"
      },
      "source": [
        "dfedademiray"
      ],
      "execution_count": null,
      "outputs": []
    },
    {
      "cell_type": "markdown",
      "metadata": {
        "id": "WKKRNal3JApG"
      },
      "source": [
        "**21.**\tpandas_profiling kütüphanesini kullanarak dataFrame'deki veriler hakkında \"html\" rapor hazırlayınız. "
      ]
    },
    {
      "cell_type": "code",
      "metadata": {
        "id": "nClUTnjVfhhY"
      },
      "source": [
        "from pandas_profiling import ProfileReport \n",
        "import pandas_profiling as pp\n",
        "profile = pp.ProfileReport(dfedademiray) \n",
        "profile.to_file(\"Analysis.html\")\n"
      ],
      "execution_count": null,
      "outputs": []
    },
    {
      "cell_type": "markdown",
      "metadata": {
        "id": "IDHqgCRmJEN1"
      },
      "source": [
        "**27.**\tSatır ve sütunu birlikte seçerek \"loc\" deyimi ile sorgu yazınız. "
      ]
    },
    {
      "cell_type": "code",
      "metadata": {
        "id": "8zuCGRdYfhlO"
      },
      "source": [
        "dfedademiray.loc[[0],'ZIP'] \n",
        "\n"
      ],
      "execution_count": null,
      "outputs": []
    },
    {
      "cell_type": "markdown",
      "metadata": {
        "id": "y37766GyJHsc"
      },
      "source": [
        " **28.**\tloc () deyimini kullanarak dataFrame’de \"Slicing\" işlemi yapınız. "
      ]
    },
    {
      "cell_type": "code",
      "metadata": {
        "id": "GgHUMpW6fho8"
      },
      "source": [
        "dfedademiray.loc[0:4:2]\n",
        "\n"
      ],
      "execution_count": null,
      "outputs": []
    },
    {
      "cell_type": "code",
      "metadata": {
        "id": "_gKqjcpqr0Xp"
      },
      "source": [
        "print(dfedademiray.index)"
      ],
      "execution_count": null,
      "outputs": []
    },
    {
      "cell_type": "markdown",
      "metadata": {
        "id": "pWP_AlBJJLnp"
      },
      "source": [
        "**61.**\tCSV dataset'den sadece iki sütunu dataframe'e import ediniz."
      ]
    },
    {
      "cell_type": "code",
      "metadata": {
        "id": "IBEijYvZsE8U"
      },
      "source": [
        "kısa = pd.read_csv('/content/employee-earnings-report-2014.csv', usecols=['ZIP', 'QUINN'])\n",
        "dfedademirayKısa=pd.DataFrame(kısa)      "
      ],
      "execution_count": null,
      "outputs": []
    },
    {
      "cell_type": "markdown",
      "metadata": {
        "id": "NLaXG0V4JPob"
      },
      "source": [
        "**22.**CSV dosyası olarak link’ten alınan dataFrame’i herhangi bir dizine dataFrame olarak kopyalayınız. Linkteki CSV dosyası ile kaydedilen CSV dosyasının aynı olup olmadığını kontrol ediniz. "
      ]
    },
    {
      "cell_type": "code",
      "metadata": {
        "id": "guEX5M50vSM-"
      },
      "source": [
        "dataset=pd.read_csv('/content/2014report.csv')  \n",
        "df_edademirayD1=pd.DataFrame(dataset)\n",
        "dataset2=pd.read_csv('/content/employee-earnings-report-2015.csv')\n",
        "df_edademirayD2=pd.DataFrame(dataset2)  \n",
        "\n",
        "df_edademirayD1.eq(df_edademirayD2)"
      ],
      "execution_count": null,
      "outputs": []
    },
    {
      "cell_type": "code",
      "metadata": {
        "id": "WKSsvKS8vUXA"
      },
      "source": [
        ""
      ],
      "execution_count": null,
      "outputs": []
    }
  ]
}